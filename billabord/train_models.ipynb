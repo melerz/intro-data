{
 "cells": [
  {
   "cell_type": "code",
   "execution_count": 1,
   "metadata": {},
   "outputs": [
    {
     "name": "stdout",
     "output_type": "stream",
     "text": [
      "The autoreload extension is already loaded. To reload it, use:\n",
      "  %reload_ext autoreload\n"
     ]
    }
   ],
   "source": [
    "%run utils.ipynb"
   ]
  },
  {
   "cell_type": "code",
   "execution_count": null,
   "metadata": {},
   "outputs": [],
   "source": [
    "def evaluate_models(features,labels,models,scoring_method='accuracy',CV=5):\n",
    "    cv_df = pd.DataFrame(index=range(CV * len(models)))\n",
    "    entries = []\n",
    "    for model in models:\n",
    "        model_name = model.__class__.__name__\n",
    "        accuracies = cross_val_score(model,features, labels, scoring=scoring_method, cv=CV)\n",
    "        for fold_idx, accuracy in enumerate(accuracies):\n",
    "            entries.append((model_name, fold_idx, accuracy))\n",
    "    cv_df = pd.DataFrame(entries, columns=['model_name', 'fold_idx', scoring_method])\n",
    "    sns.boxplot(x='model_name', y=scoring_method, data=cv_df)\n",
    "    sns.stripplot(x='model_name', y=scoring_method, data=cv_df, \n",
    "                  size=8, jitter=True, edgecolor=\"gray\", linewidth=2)\n",
    "    plt.title('Scoring Method={}'.format(scoring_method))\n",
    "    plt.xticks(rotation=45)\n",
    "    a=plt.show()\n",
    "    print(cv_df.groupby('model_name')[scoring_method].mean())\n",
    "    return cv_df\n",
    "\n",
    "\n",
    "def evaluate_model_stats(model,X_train, X_test, y_train, y_test,train=True):\n",
    "    if train:\n",
    "        model.fit(X_train, y_train)\n",
    "    y_pred = model.predict(X_test)\n",
    "    y_pred_probs=model.predict_proba(X_test)\n",
    "    conf_mat = confusion_matrix(y_test, y_pred)\n",
    "    fig, ax = plt.subplots(figsize=(10,10))\n",
    "   # sns.heatmap(conf_mat, annot=True, fmt='d',\n",
    "                #xticklabels=AUTHOR_ID.keys(), yticklabels=AUTHOR_ID.keys())\n",
    "    sns.heatmap(conf_mat, annot=True, fmt='d')\n",
    "    plt.ylabel('Actual')\n",
    "    plt.xlabel('Predicted')\n",
    "    plt.title(\"{} Confusion Martix\".format(model.__class__.__name__))\n",
    "\n",
    "    print(metrics.classification_report(y_test, y_pred, target_names=['No-Popular','Popular']))\n",
    "\n",
    "    #calculate log-loss\n",
    "    print(\"{}:Log-Loss:{}\".format(model.__class__.__name__,log_loss(y_test,y_pred_probs)))\n",
    "    return model,y_pred,y_pred_probs,conf_mat\n"
   ]
  },
  {
   "cell_type": "code",
   "execution_count": null,
   "metadata": {},
   "outputs": [],
   "source": []
  }
 ],
 "metadata": {
  "kernelspec": {
   "display_name": "Python 3",
   "language": "python",
   "name": "python3"
  },
  "language_info": {
   "codemirror_mode": {
    "name": "ipython",
    "version": 3
   },
   "file_extension": ".py",
   "mimetype": "text/x-python",
   "name": "python",
   "nbconvert_exporter": "python",
   "pygments_lexer": "ipython3",
   "version": "3.5.2"
  }
 },
 "nbformat": 4,
 "nbformat_minor": 2
}

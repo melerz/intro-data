{
 "cells": [
  {
   "cell_type": "code",
   "execution_count": 14,
   "metadata": {},
   "outputs": [
    {
     "name": "stdout",
     "output_type": "stream",
     "text": [
      "The autoreload extension is already loaded. To reload it, use:\n",
      "  %reload_ext autoreload\n"
     ]
    }
   ],
   "source": [
    "import numpy as np\n",
    "import pandas as pd\n",
    "import matplotlib as mpl\n",
    "import matplotlib.pyplot as plt\n",
    "import seaborn as sns\n",
    "import os\n",
    "import pdb\n",
    "\n",
    "\n",
    "# import bokeh\n",
    "# from bokeh.io import output_notebook, show\n",
    "# from bokeh.resources import INLINE\n",
    "# import bokeh.plotting as bp\n",
    "# from bokeh.plotting import figure\n",
    "#output_notebook(resources=INLINE)\n",
    "\n",
    "\n",
    "\n",
    "mpl.style.use('seaborn')\n",
    "mpl.rcParams['figure.figsize'] = [20,15]\n",
    "mpl.rcParams['axes.titlesize'] = 20\n",
    "mpl.rcParams['axes.labelsize'] = 16\n",
    "mpl.rcParams['xtick.labelsize'] =15\n",
    "mpl.rcParams['ytick.labelsize'] = 15\n",
    "mpl.rcParams['legend.fontsize'] = 15\n",
    "pd.options.mode.chained_assignment = None\n",
    "\n",
    "\n",
    "PLT_WIDTH_INCH = 20\n",
    "PLT_HEIGHT_INCH = 15\n",
    "plt.rcParams['figure.figsize'] = [PLT_WIDTH_INCH, PLT_HEIGHT_INCH]\n",
    "\n",
    "%load_ext autoreload\n",
    "%matplotlib inline\n",
    "\n",
    "\n",
    "\n",
    "#task specific modules\n",
    "from sklearn.model_selection import train_test_split\n",
    "from sklearn.feature_extraction.text import CountVectorizer\n",
    "from sklearn.feature_extraction.text import TfidfTransformer\n",
    "from sklearn.naive_bayes import MultinomialNB\n",
    "from sklearn.linear_model import LogisticRegression\n",
    "from sklearn.ensemble import RandomForestClassifier\n",
    "from sklearn.cluster import KMeans\n",
    "from sklearn.pipeline import Pipeline\n",
    "from sklearn.svm import LinearSVC\n",
    "from sklearn.model_selection import cross_val_score\n",
    "import nltk\n",
    "from sklearn.feature_extraction.text import TfidfVectorizer\n",
    "from sklearn.feature_selection import chi2\n",
    "from sklearn.metrics import log_loss\n",
    "from sklearn.metrics import confusion_matrix\n",
    "from sklearn import metrics"
   ]
  },
  {
   "cell_type": "code",
   "execution_count": 1,
   "metadata": {},
   "outputs": [],
   "source": [
    "# %load spotify_client/spotify_client.py\n",
    "import spotipy\n",
    "import json\n",
    "from spotipy.oauth2 import SpotifyClientCredentials\n",
    "\n",
    "\n",
    "\"\"\"\n",
    "we will get all the features from spotify, by song name and artist name.\n",
    "this function will create a json file with all the data\n",
    "\"\"\"\n",
    "def get_song_features_and_info_json(song_name, artist_name):\n",
    "\n",
    "    # getting credentials to request special API\n",
    "    credenials = SpotifyClientCredentials(client_id=\"5659eaf41b194134866170761e2fb293\",client_secret=\"17e2a9fa37c2466baa2ba05752896cdc\")\n",
    "\n",
    "    # getting the client\n",
    "    spotify_client = spotipy.Spotify(client_credentials_manager=credenials)\n",
    "\n",
    "    # getting the song id in order to retrieve features, limiting to 1 since it sorts the results by popularity\n",
    "    song_results = spotify_client.search(q='artist:' + artist_name + ' track:' + song_name, type='track',limit=1)\n",
    "    #print(song_results)\n",
    "    tracks = song_results['tracks']['items']\n",
    "    if len(tracks)==0:\n",
    "        print(\"***no results for the requested track:{}***\".format(song_name+\":\"+artist_name))\n",
    "        return\n",
    "    result_dict = tracks[0]\n",
    "\n",
    "    # creating dict for track\n",
    "    song_dict = creating_song_dictionary(artist_name, result_dict, spotify_client)\n",
    "\n",
    "    return song_dict\n",
    "def creating_song_dictionary(artist_name, result_dict, spotify_client):\n",
    "    song_dict = {}\n",
    "    song_dict['artist'] = artist_name\n",
    "    song_id = [result_dict['uri']]\n",
    "    song_dict['uri'] = song_id\n",
    "    song_dict['year'] = result_dict['album']['release_date'][:4]\n",
    "    song_dict['artist_id'] = result_dict['artists'][0]['id']\n",
    "    song_dict['track_id'] = result_dict['id']\n",
    "    song_dict['name'] = spotify_client.track(song_dict['track_id'])['name']\n",
    "    song_dict['popularity'] = result_dict['popularity']\n",
    "    song_dict['preview_link'] = result_dict['preview_url']\n",
    "    features = spotify_client.audio_features(song_id)\n",
    "    song_dict['main_features'] = features[0]\n",
    "\n",
    "    # todo - need this? a big analysis, maybe will be helpful\n",
    "    # analysis = spotify_client._get(features[0]['analysis_url'])\n",
    "    #\n",
    "    # song_dict['analysis'] = analysis\n",
    "\n",
    "    return song_dict"
   ]
  },
  {
   "cell_type": "code",
   "execution_count": 8,
   "metadata": {},
   "outputs": [
    {
     "data": {
      "text/plain": [
       "{'artist': 'Gerry and The Pacemakers',\n",
       " 'artist_id': '3UmBeGyNwr4iDWi1vTxWi8',\n",
       " 'main_features': {'acousticness': 0.406,\n",
       "  'analysis_url': 'https://api.spotify.com/v1/audio-analysis/0ZMMtH875IR2TfkyC4PolD',\n",
       "  'danceability': 0.477,\n",
       "  'duration_ms': 157093,\n",
       "  'energy': 0.352,\n",
       "  'id': '0ZMMtH875IR2TfkyC4PolD',\n",
       "  'instrumentalness': 0,\n",
       "  'key': 1,\n",
       "  'liveness': 0.122,\n",
       "  'loudness': -14.165,\n",
       "  'mode': 1,\n",
       "  'speechiness': 0.03,\n",
       "  'tempo': 106.773,\n",
       "  'time_signature': 4,\n",
       "  'track_href': 'https://api.spotify.com/v1/tracks/0ZMMtH875IR2TfkyC4PolD',\n",
       "  'type': 'audio_features',\n",
       "  'uri': 'spotify:track:0ZMMtH875IR2TfkyC4PolD',\n",
       "  'valence': 0.478},\n",
       " 'name': \"Don't Let the Sun Catch You Crying - Mono; Main\",\n",
       " 'popularity': 39,\n",
       " 'preview_link': 'https://p.scdn.co/mp3-preview/45cc5668aa48b33280bf44354ea4742d2d048f44?cid=5659eaf41b194134866170761e2fb293',\n",
       " 'track_id': '0ZMMtH875IR2TfkyC4PolD',\n",
       " 'uri': ['spotify:track:0ZMMtH875IR2TfkyC4PolD'],\n",
       " 'year': '2008'}"
      ]
     },
     "execution_count": 8,
     "metadata": {},
     "output_type": "execute_result"
    }
   ],
   "source": [
    "\n",
    "get_song_features_and_info_json(\"Dont Let The Sun Catch You Crying\",\"Gerry and The Pacemakers\")"
   ]
  },
  {
   "cell_type": "code",
   "execution_count": 11,
   "metadata": {},
   "outputs": [],
   "source": [
    "df=pd.read_pickle('billboard.dat')"
   ]
  },
  {
   "cell_type": "code",
   "execution_count": 20,
   "metadata": {},
   "outputs": [
    {
     "data": {
      "text/plain": [
       "\"Mona Lisa, Mona Lisa, men have named you\\nYou're so like the lady with the mystic smile\\nIs it only 'cause you're lonely they have blamed you?\\nFor that Mona Lisa strangeness in your smile?\\n\\nDo you smile to tempt a lover, Mona Lisa?\\nOr is this your way to hide a broken heart?\\nMany dreams have been brought to your doorstep\\nThey just lie there and they die there\\n\\nAre you warm, are you real, Mona Lisa?\\nOr just a cold and lonely lovely work of art?\\n\\nDo you smile to tempt a lover, Mona Lisa?\\nOr is this your way to hide a broken heart?\\nMany dreams have been brought to your doorstep\\nThey just lie there and they die there\\n\\nAre you warm, are you real, Mona Lisa?\\nOr just a cold and lonely lovely work of art?\\n\\nMona Lisa, Mona Lisa\""
      ]
     },
     "execution_count": 20,
     "metadata": {},
     "output_type": "execute_result"
    }
   ],
   "source": [
    "df['lyrics'][0]"
   ]
  }
 ],
 "metadata": {
  "kernelspec": {
   "display_name": "Python 3",
   "language": "python",
   "name": "python3"
  },
  "language_info": {
   "codemirror_mode": {
    "name": "ipython",
    "version": 3
   },
   "file_extension": ".py",
   "mimetype": "text/x-python",
   "name": "python",
   "nbconvert_exporter": "python",
   "pygments_lexer": "ipython3",
   "version": "3.5.2"
  }
 },
 "nbformat": 4,
 "nbformat_minor": 2
}
